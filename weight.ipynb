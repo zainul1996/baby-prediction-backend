{
 "cells": [
  {
   "cell_type": "code",
   "execution_count": 1,
   "metadata": {},
   "outputs": [
    {
     "name": "stdout",
     "output_type": "stream",
     "text": [
      "   Sex  Agemos            L            M            S           P3  \\\n",
      "0    1     0.0  1.815151075  3.530203168  0.152385273  2.355450986   \n",
      "1    1     0.5  1.547523128  4.003106424  0.146025021  2.799548641   \n",
      "2    1     1.5  1.068795548  4.879525083  0.136478767  3.614688072   \n",
      "3    1     2.5  0.695973505  5.672888765  0.129677511  4.342341450   \n",
      "4    1     3.5  0.419815090  6.391391982  0.124717085  4.992897896   \n",
      "\n",
      "            P5          P10          P25          P50          P75  \\\n",
      "0  2.526904020  2.773801848  3.150611082  3.530203168  3.879076559   \n",
      "1  2.964655655  3.209510017  3.597395573  4.003106424  4.387422565   \n",
      "2  3.774848862  4.020561446  4.428872952  4.879525083  5.327327567   \n",
      "3  4.503255345  4.754479354  5.183377547  5.672888765  6.175598158   \n",
      "4  5.157411653  5.416802856  5.866806254  6.391391982  6.942217106   \n",
      "\n",
      "           P90          P95          P97  \n",
      "0  4.172493390  4.340292740  4.446488308  \n",
      "1  4.718161283  4.910130108  5.032624982  \n",
      "2  5.728152752  5.967101615  6.121929103  \n",
      "3  6.638979132  6.921119162  7.106250132  \n",
      "4  7.460702368  7.781401145  7.993878049  \n",
      "76\n"
     ]
    }
   ],
   "source": [
    "import math\n",
    "import pandas as pd\n",
    "from scipy.stats import norm\n",
    "\n",
    "pd.set_option('display.precision',12)\n",
    "weightdf = pd.read_csv('wtageinf.csv', parse_dates=False)\n",
    "print(weightdf.head())\n",
    "print(len(weightdf))"
   ]
  },
  {
   "cell_type": "code",
   "execution_count": 2,
   "metadata": {},
   "outputs": [],
   "source": [
    "def get_LMS(age, sex):\n",
    "    age = age + 0.5\n",
    "    tempdf = weightdf[(weightdf['Agemos'] == age) & (weightdf['Sex'] == sex)]\n",
    "    return tempdf[[\"L\",\"M\",\"S\"]]"
   ]
  },
  {
   "cell_type": "code",
   "execution_count": 3,
   "metadata": {},
   "outputs": [],
   "source": [
    "def z2percentile(z):\n",
    "    return norm.cdf(z) * 100"
   ]
  },
  {
   "cell_type": "code",
   "execution_count": 29,
   "metadata": {},
   "outputs": [],
   "source": [
    "def get_percentile(age, weight, sex):\n",
    "    lmsdf = get_LMS(age, sex)\n",
    "    percentile = math.log(weight/lmsdf[\"M\"])/lmsdf[\"S\"]\n",
    "    return percentile.values[0]\n",
    "\n",
    "def get_percentile_nonzero(age, weight, sex):\n",
    "    # 1.815151075,3.530203168,0.152385273\n",
    "    lmsdf = get_LMS(age, sex)\n",
    "    print(lmsdf[\"M\"])\n",
    "    L = lmsdf[\"L\"].values[0]\n",
    "    M = lmsdf[\"M\"].values[0]\n",
    "    S = lmsdf[\"S\"].values[0]\n",
    "    percentile = (((weight / M) ** L) - 1) / (L * S)\n",
    "    return percentile"
   ]
  },
  {
   "cell_type": "code",
   "execution_count": 32,
   "metadata": {},
   "outputs": [
    {
     "name": "stdout",
     "output_type": "stream",
     "text": [
      "10    9.476500305\n",
      "Name: M, dtype: float64\n",
      "z: 0.2073994118625263\n",
      "percentile: 58.215102905981155\n",
      "weight: 9.699999999999998\n"
     ]
    }
   ],
   "source": [
    "def get_weight(age, z):\n",
    "    lmsdf = get_LMS(age, 1)\n",
    "    return lmsdf[\"M\"] * math.exp(lmsdf[\"S\"] * z)\n",
    "\n",
    "def get_weight_nonzero(age, z):\n",
    "    lmsdf = get_LMS(age, 1)\n",
    "    L = lmsdf[\"L\"].values[0]\n",
    "    M = lmsdf[\"M\"].values[0]\n",
    "    S = lmsdf[\"S\"].values[0]\n",
    "    return M * ((L * S * z) + 1) ** (1 / L)\n",
    "\n",
    "z = get_percentile_nonzero(9, 9.7, 1)\n",
    "p = z2percentile(z)\n",
    "print(\"z:\",z)\n",
    "print(\"percentile:\",p)\n",
    "print(\"weight:\",get_weight_nonzero(9, z))\n"
   ]
  }
 ],
 "metadata": {
  "kernelspec": {
   "display_name": "Python 3.8.5 64-bit ('baby_flask_env')",
   "language": "python",
   "name": "python3"
  },
  "language_info": {
   "codemirror_mode": {
    "name": "ipython",
    "version": 3
   },
   "file_extension": ".py",
   "mimetype": "text/x-python",
   "name": "python",
   "nbconvert_exporter": "python",
   "pygments_lexer": "ipython3",
   "version": "3.8.5"
  },
  "orig_nbformat": 4,
  "vscode": {
   "interpreter": {
    "hash": "d0aafbe52efa21a48a815b925b892e24aeacb76bec5a20c0c002892be9526071"
   }
  }
 },
 "nbformat": 4,
 "nbformat_minor": 2
}
