{
 "cells": [
  {
   "cell_type": "code",
   "execution_count": 17,
   "metadata": {},
   "outputs": [
    {
     "name": "stdout",
     "output_type": "stream",
     "text": [
      "   Sex  Agemos            L            M            S           P3  \\\n",
      "0    1    24.0  0.941523967  86.45220101  0.040321528  79.91084447   \n",
      "1    1    24.5  1.007208070  86.86160934  0.040395626  80.26037074   \n",
      "2    1    25.5  0.837251351  87.65247282  0.040577525  81.00529370   \n",
      "3    1    26.5  0.681492975  88.42326434  0.040723122  81.73415740   \n",
      "4    1    27.5  0.538779654  89.17549228  0.040833194  82.44845648   \n",
      "\n",
      "            P5          P10          P25          P50          P75  \\\n",
      "0  80.72977321  81.99171445  84.10289217  86.45220101  88.80524943   \n",
      "1  81.08868489  82.36400989  84.49470553  86.86160934  89.22804829   \n",
      "2  81.83445202  83.11387064  85.25887745  87.65247282  90.05675457   \n",
      "3  82.56406112  83.84716151  86.00517310  88.42326434  90.86260410   \n",
      "4  83.27898582  84.56534433  86.73506945  89.17549228  91.64711353   \n",
      "\n",
      "           P90          P95          P97  \n",
      "0  90.92619137  92.19687928  93.02265441  \n",
      "1  91.35753004  92.63176749  93.45923029  \n",
      "2  92.22966054  93.53406648  94.38278047  \n",
      "3  93.07608163  94.40884914  95.27761711  \n",
      "4  93.89827114  95.25754106  96.14511823  \n",
      "436\n"
     ]
    }
   ],
   "source": [
    "import math\n",
    "import pandas as pd\n",
    "from scipy.stats import norm\n",
    "\n",
    "pd.set_option('display.precision',12)\n",
    "weightdf = pd.read_csv('statage.csv', parse_dates=False)\n",
    "print(weightdf.head())\n",
    "print(len(weightdf))"
   ]
  },
  {
   "cell_type": "code",
   "execution_count": 18,
   "metadata": {},
   "outputs": [],
   "source": [
    "def get_LMS(age, sex):\n",
    "    age = age + 0.5\n",
    "    tempdf = weightdf[(weightdf['Agemos'] == age) & (weightdf['Sex'] == sex)]\n",
    "    return tempdf[[\"L\",\"M\",\"S\"]]"
   ]
  },
  {
   "cell_type": "code",
   "execution_count": 19,
   "metadata": {},
   "outputs": [],
   "source": [
    "def z2percentile(z):\n",
    "    return norm.cdf(z) * 100"
   ]
  },
  {
   "cell_type": "code",
   "execution_count": 20,
   "metadata": {},
   "outputs": [],
   "source": [
    "def get_percentile(age, weight, sex):\n",
    "    lmsdf = get_LMS(age, sex)\n",
    "    percentile = math.log(weight/lmsdf[\"M\"])/lmsdf[\"S\"]\n",
    "    return percentile.values[0]\n",
    "\n",
    "def get_percentile_nonzero(age, weight, sex):\n",
    "    # 1.815151075,3.530203168,0.152385273\n",
    "    lmsdf = get_LMS(age, sex)\n",
    "    print(lmsdf[\"M\"])\n",
    "    L = lmsdf[\"L\"].values[0]\n",
    "    M = lmsdf[\"M\"].values[0]\n",
    "    S = lmsdf[\"S\"].values[0]\n",
    "    percentile = (((weight / M) ** L) - 1) / (L * S)\n",
    "    return percentile"
   ]
  },
  {
   "cell_type": "code",
   "execution_count": 22,
   "metadata": {},
   "outputs": [
    {
     "name": "stdout",
     "output_type": "stream",
     "text": [
      "13    95.27359106\n",
      "Name: M, dtype: float64\n",
      "z: -1.7030415214587238\n",
      "percentile: 4.428014916694875\n",
      "weight: 164.61850914827815\n"
     ]
    }
   ],
   "source": [
    "def get_weight(age, z):\n",
    "    lmsdf = get_LMS(age, 1)\n",
    "    return lmsdf[\"M\"] * math.exp(lmsdf[\"S\"] * z)\n",
    "\n",
    "def get_weight_nonzero(age, z):\n",
    "    lmsdf = get_LMS(age, 1)\n",
    "    L = lmsdf[\"L\"].values[0]\n",
    "    M = lmsdf[\"M\"].values[0]\n",
    "    S = lmsdf[\"S\"].values[0]\n",
    "    return M * ((L * S * z) + 1) ** (1 / L)\n",
    "\n",
    "z = get_percentile_nonzero(36, 89, 1)\n",
    "p = z2percentile(z)\n",
    "print(\"z:\",z)\n",
    "print(\"percentile:\",p)\n",
    "print(\"weight:\",get_weight_nonzero(239.5, z))\n"
   ]
  }
 ],
 "metadata": {
  "kernelspec": {
   "display_name": "Python 3.8.5 64-bit ('baby_flask_env')",
   "language": "python",
   "name": "python3"
  },
  "language_info": {
   "codemirror_mode": {
    "name": "ipython",
    "version": 3
   },
   "file_extension": ".py",
   "mimetype": "text/x-python",
   "name": "python",
   "nbconvert_exporter": "python",
   "pygments_lexer": "ipython3",
   "version": "3.8.5"
  },
  "orig_nbformat": 4,
  "vscode": {
   "interpreter": {
    "hash": "d0aafbe52efa21a48a815b925b892e24aeacb76bec5a20c0c002892be9526071"
   }
  }
 },
 "nbformat": 4,
 "nbformat_minor": 2
}
