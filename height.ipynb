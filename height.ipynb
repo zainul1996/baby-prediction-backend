{
 "cells": [
  {
   "cell_type": "code",
   "execution_count": 19,
   "metadata": {},
   "outputs": [
    {
     "name": "stdout",
     "output_type": "stream",
     "text": [
      "   Sex  Agemos            L            M            S           P3  \\\n",
      "0    1     0.0  1.267004226  49.98888408  0.053112191  44.92509780   \n",
      "1    1     0.5  0.511237696  52.69597530  0.048692684  47.97812373   \n",
      "2    1     1.5 -0.452244460  56.62842855  0.044116830  52.19859469   \n",
      "3    1     2.5 -0.990594599  59.60895343  0.041795583  55.26321780   \n",
      "4    1     3.5 -1.285837689  62.07700027  0.040454126  57.73049293   \n",
      "\n",
      "            P5          P10          P25          P50  ...        Pub97  \\\n",
      "0  45.56840910  46.55429302  48.18937381  49.98888408  ...  54.84011528   \n",
      "1  48.55809206  49.45780383  50.97918889  52.69597530  ...  57.55495075   \n",
      "2  52.72610659  53.55364657  54.97910441  56.62842855  ...  61.55532574   \n",
      "3  55.77345050  56.57772145  57.97439882  59.60895343  ...  64.62419672   \n",
      "4  58.23744339  59.03830227  60.43433439  62.07700027  ...  67.18521797   \n",
      "\n",
      "         Diff3        Diff5       Diff10       Diff25  Diff50       Diff75  \\\n",
      "0 -0.081027735 -0.070741647 -0.054963622 -0.028800190       0  0.028525908   \n",
      "1 -0.071613958 -0.062817443 -0.049158167 -0.026064794       0  0.026486606   \n",
      "2 -0.062572221 -0.055127414 -0.043436247 -0.023301752       0  0.024330926   \n",
      "3 -0.058314720 -0.051474179 -0.040679858 -0.021938467       0  0.023205197   \n",
      "4 -0.056005918 -0.049479876 -0.039158669 -0.021170834       0  0.022533976   \n",
      "\n",
      "        Diff90       Diff95       Diff97  \n",
      "0  0.053972428  0.069107007  0.078889173  \n",
      "1  0.050680658  0.065325576  0.074892481  \n",
      "2  0.047154107  0.061256919  0.070589140  \n",
      "3  0.045261255  0.059035426  0.068212371  \n",
      "4  0.044092493  0.057628415  0.066678000  \n",
      "\n",
      "[5 rows x 32 columns]\n",
      "74\n"
     ]
    }
   ],
   "source": [
    "import math\n",
    "import pandas as pd\n",
    "from scipy.stats import norm\n",
    "\n",
    "pd.set_option('display.precision',12)\n",
    "weightdf = pd.read_csv('lenageinf.csv', parse_dates=False)\n",
    "print(weightdf.head())\n",
    "print(len(weightdf))"
   ]
  },
  {
   "cell_type": "code",
   "execution_count": 7,
   "metadata": {},
   "outputs": [],
   "source": [
    "def get_LMS(age, sex):\n",
    "    tempdf = weightdf[(weightdf['Agemos'] == age) & (weightdf['Sex'] == sex)]\n",
    "    return tempdf[[\"L\",\"M\",\"S\"]]"
   ]
  },
  {
   "cell_type": "code",
   "execution_count": 3,
   "metadata": {},
   "outputs": [],
   "source": [
    "def z2percentile(z):\n",
    "    return norm.cdf(z) * 100"
   ]
  },
  {
   "cell_type": "code",
   "execution_count": 4,
   "metadata": {},
   "outputs": [],
   "source": [
    "def get_percentile(age, weight, sex):\n",
    "    lmsdf = get_LMS(age, sex)\n",
    "    percentile = math.log(weight/lmsdf[\"M\"])/lmsdf[\"S\"]\n",
    "    return percentile.values[0]\n",
    "\n",
    "def get_percentile_nonzero(age, weight, sex):\n",
    "    # 1.815151075,3.530203168,0.152385273\n",
    "    lmsdf = get_LMS(age, sex)\n",
    "    print(lmsdf[\"M\"])\n",
    "    L = lmsdf[\"L\"].values[0]\n",
    "    M = lmsdf[\"M\"].values[0]\n",
    "    S = lmsdf[\"S\"].values[0]\n",
    "    percentile = (((weight / M) ** L) - 1) / (L * S)\n",
    "    return percentile"
   ]
  },
  {
   "cell_type": "code",
   "execution_count": null,
   "metadata": {},
   "outputs": [],
   "source": []
  },
  {
   "cell_type": "code",
   "execution_count": 28,
   "metadata": {},
   "outputs": [
    {
     "name": "stdout",
     "output_type": "stream",
     "text": [
      "0    49.98888408\n",
      "Name: M, dtype: float64\n",
      "z: -1.4860656011573736\n",
      "percentile: 6.863088495497925\n"
     ]
    },
    {
     "ename": "IndexError",
     "evalue": "index 0 is out of bounds for axis 0 with size 0",
     "output_type": "error",
     "traceback": [
      "\u001b[0;31m---------------------------------------------------------------------------\u001b[0m",
      "\u001b[0;31mIndexError\u001b[0m                                Traceback (most recent call last)",
      "Cell \u001b[0;32mIn [28], line 17\u001b[0m\n\u001b[1;32m     15\u001b[0m \u001b[38;5;28mprint\u001b[39m(\u001b[38;5;124m\"\u001b[39m\u001b[38;5;124mz:\u001b[39m\u001b[38;5;124m\"\u001b[39m,z)\n\u001b[1;32m     16\u001b[0m \u001b[38;5;28mprint\u001b[39m(\u001b[38;5;124m\"\u001b[39m\u001b[38;5;124mpercentile:\u001b[39m\u001b[38;5;124m\"\u001b[39m,p)\n\u001b[0;32m---> 17\u001b[0m \u001b[38;5;28mprint\u001b[39m(\u001b[38;5;124m\"\u001b[39m\u001b[38;5;124mheight:\u001b[39m\u001b[38;5;124m\"\u001b[39m,\u001b[43mget_height_nonzero\u001b[49m\u001b[43m(\u001b[49m\u001b[38;5;241;43m36\u001b[39;49m\u001b[43m,\u001b[49m\u001b[43m \u001b[49m\u001b[43mz\u001b[49m\u001b[43m)\u001b[49m)\n",
      "Cell \u001b[0;32mIn [28], line 7\u001b[0m, in \u001b[0;36mget_height_nonzero\u001b[0;34m(age, z)\u001b[0m\n\u001b[1;32m      5\u001b[0m \u001b[38;5;28;01mdef\u001b[39;00m \u001b[38;5;21mget_height_nonzero\u001b[39m(age, z):\n\u001b[1;32m      6\u001b[0m     lmsdf \u001b[38;5;241m=\u001b[39m get_LMS(age, \u001b[38;5;241m1\u001b[39m)\n\u001b[0;32m----> 7\u001b[0m     L \u001b[38;5;241m=\u001b[39m \u001b[43mlmsdf\u001b[49m\u001b[43m[\u001b[49m\u001b[38;5;124;43m\"\u001b[39;49m\u001b[38;5;124;43mL\u001b[39;49m\u001b[38;5;124;43m\"\u001b[39;49m\u001b[43m]\u001b[49m\u001b[38;5;241;43m.\u001b[39;49m\u001b[43mvalues\u001b[49m\u001b[43m[\u001b[49m\u001b[38;5;241;43m0\u001b[39;49m\u001b[43m]\u001b[49m\n\u001b[1;32m      8\u001b[0m     M \u001b[38;5;241m=\u001b[39m lmsdf[\u001b[38;5;124m\"\u001b[39m\u001b[38;5;124mM\u001b[39m\u001b[38;5;124m\"\u001b[39m]\u001b[38;5;241m.\u001b[39mvalues[\u001b[38;5;241m0\u001b[39m]\n\u001b[1;32m      9\u001b[0m     S \u001b[38;5;241m=\u001b[39m lmsdf[\u001b[38;5;124m\"\u001b[39m\u001b[38;5;124mS\u001b[39m\u001b[38;5;124m\"\u001b[39m]\u001b[38;5;241m.\u001b[39mvalues[\u001b[38;5;241m0\u001b[39m]\n",
      "\u001b[0;31mIndexError\u001b[0m: index 0 is out of bounds for axis 0 with size 0"
     ]
    }
   ],
   "source": [
    "def get_weight(age, z):\n",
    "    lmsdf = get_LMS(age, 1)\n",
    "    return lmsdf[\"M\"] * math.exp(lmsdf[\"S\"] * z)\n",
    "\n",
    "def get_weight_nonzero(age, z):\n",
    "    lmsdf = get_LMS(age, 1)\n",
    "    L = lmsdf[\"L\"].values[0]\n",
    "    M = lmsdf[\"M\"].values[0]\n",
    "    S = lmsdf[\"S\"].values[0]\n",
    "    return M * ((L * S * z) + 1) ** (1 / L)\n",
    "\n",
    "lmsdf = get_LMS(0, 46)\n",
    "z = get_percentile_nonzero(0, 46, 1)\n",
    "p = z2percentile(z)\n",
    "print(\"z:\",z)\n",
    "print(\"percentile:\",p)\n",
    "print(\"weight:\",get_weight_nonzero(36, z))\n"
   ]
  }
 ],
 "metadata": {
  "kernelspec": {
   "display_name": "Python 3.8.5 64-bit ('baby_flask_env')",
   "language": "python",
   "name": "python3"
  },
  "language_info": {
   "codemirror_mode": {
    "name": "ipython",
    "version": 3
   },
   "file_extension": ".py",
   "mimetype": "text/x-python",
   "name": "python",
   "nbconvert_exporter": "python",
   "pygments_lexer": "ipython3",
   "version": "3.8.5"
  },
  "orig_nbformat": 4,
  "vscode": {
   "interpreter": {
    "hash": "d0aafbe52efa21a48a815b925b892e24aeacb76bec5a20c0c002892be9526071"
   }
  }
 },
 "nbformat": 4,
 "nbformat_minor": 2
}
